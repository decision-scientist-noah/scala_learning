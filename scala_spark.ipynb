{
 "cells": [
  {
   "cell_type": "code",
   "execution_count": 2,
   "metadata": {},
   "outputs": [
    {
     "data": {
      "text/plain": [
       "my_imx = 10\n"
      ]
     },
     "metadata": {},
     "output_type": "display_data"
    },
    {
     "data": {
      "text/plain": [
       "10"
      ]
     },
     "execution_count": 2,
     "metadata": {},
     "output_type": "execute_result"
    }
   ],
   "source": [
    "val my_imx = 10"
   ]
  },
  {
   "cell_type": "code",
   "execution_count": 3,
   "metadata": {},
   "outputs": [
    {
     "data": {
      "text/plain": [
       "my_mutx = 20\n"
      ]
     },
     "metadata": {},
     "output_type": "display_data"
    },
    {
     "data": {
      "text/plain": [
       "20"
      ]
     },
     "execution_count": 3,
     "metadata": {},
     "output_type": "execute_result"
    }
   ],
   "source": [
    "var my_mutx = 20"
   ]
  },
  {
   "cell_type": "code",
   "execution_count": 4,
   "metadata": {},
   "outputs": [
    {
     "data": {
      "text/plain": [
       "myname = hi\n"
      ]
     },
     "metadata": {},
     "output_type": "display_data"
    },
    {
     "data": {
      "text/plain": [
       "hi"
      ]
     },
     "execution_count": 4,
     "metadata": {},
     "output_type": "execute_result"
    }
   ],
   "source": [
    "var myname = \"hi\""
   ]
  },
  {
   "cell_type": "code",
   "execution_count": 5,
   "metadata": {},
   "outputs": [
    {
     "data": {
      "text/plain": [
       "state = New York\n"
      ]
     },
     "metadata": {},
     "output_type": "display_data"
    },
    {
     "data": {
      "text/plain": [
       "New York"
      ]
     },
     "execution_count": 5,
     "metadata": {},
     "output_type": "execute_result"
    }
   ],
   "source": [
    "var state = \"New York\""
   ]
  },
  {
   "cell_type": "code",
   "execution_count": 6,
   "metadata": {},
   "outputs": [
    {
     "data": {
      "text/plain": [
       "principal = 500\n"
      ]
     },
     "metadata": {},
     "output_type": "display_data"
    },
    {
     "data": {
      "text/plain": [
       "500"
      ]
     },
     "execution_count": 6,
     "metadata": {},
     "output_type": "execute_result"
    }
   ],
   "source": [
    "var principal = 500"
   ]
  },
  {
   "cell_type": "code",
   "execution_count": 7,
   "metadata": {},
   "outputs": [
    {
     "data": {
      "text/plain": [
       "interest_rate = 12\n"
      ]
     },
     "metadata": {},
     "output_type": "display_data"
    },
    {
     "data": {
      "text/plain": [
       "12"
      ]
     },
     "execution_count": 7,
     "metadata": {},
     "output_type": "execute_result"
    }
   ],
   "source": [
    "var interest_rate = 12"
   ]
  },
  {
   "cell_type": "code",
   "execution_count": 8,
   "metadata": {},
   "outputs": [
    {
     "data": {
      "text/plain": [
       "years = 5\n"
      ]
     },
     "metadata": {},
     "output_type": "display_data"
    },
    {
     "data": {
      "text/plain": [
       "5"
      ]
     },
     "execution_count": 8,
     "metadata": {},
     "output_type": "execute_result"
    }
   ],
   "source": [
    "var years = 5"
   ]
  },
  {
   "cell_type": "code",
   "execution_count": 10,
   "metadata": {},
   "outputs": [
    {
     "data": {
      "text/plain": [
       "interest = 300\n"
      ]
     },
     "metadata": {},
     "output_type": "display_data"
    },
    {
     "data": {
      "text/plain": [
       "300"
      ]
     },
     "execution_count": 10,
     "metadata": {},
     "output_type": "execute_result"
    }
   ],
   "source": [
    "var interest = principal * interest_rate * years/100"
   ]
  },
  {
   "cell_type": "code",
   "execution_count": 11,
   "metadata": {},
   "outputs": [
    {
     "data": {
      "text/plain": [
       "defined object Hello\n"
      ]
     },
     "metadata": {},
     "output_type": "display_data"
    }
   ],
   "source": [
    "object Hello {\n",
    "   def main(args: Array[String]) {\n",
    "      var str:String = \"hello\"\n",
    "      println(str)\n",
    "      str = \"hello all\"\n",
    "      println(str)\n",
    "      str.concat(\" there\")\n",
    "      println(str)\n",
    "      str = str.concat(\" there\")\n",
    "      println(str)\n",
    "   }\n",
    "}"
   ]
  },
  {
   "cell_type": "code",
   "execution_count": 15,
   "metadata": {},
   "outputs": [
    {
     "name": "stdout",
     "output_type": "stream",
     "text": [
      "hello\n",
      "hello all\n",
      "hello all\n",
      "hello all there\n"
     ]
    }
   ],
   "source": [
    "Hello.main(Array())"
   ]
  },
  {
   "cell_type": "code",
   "execution_count": 18,
   "metadata": {},
   "outputs": [
    {
     "data": {
      "text/plain": [
       "defined object Demo\n"
      ]
     },
     "metadata": {},
     "output_type": "display_data"
    }
   ],
   "source": [
    "object Demo {\n",
    "   def main(args: Array[String]) {\n",
    "      var floatVar = 10.123\n",
    "      var intVar = 5000\n",
    "      var stringVar = \"Hello There\"\n",
    "\n",
    "      var fs = printf(\"The value of the float variable is \" + \"%f, while the value of the integer \" + \"variable is %d, and the string \" + \"is %s\", floatVar, intVar, stringVar);\n",
    "\n",
    "      println(fs)\n",
    "   }\n",
    "}"
   ]
  },
  {
   "cell_type": "code",
   "execution_count": 19,
   "metadata": {},
   "outputs": [
    {
     "name": "stdout",
     "output_type": "stream",
     "text": [
      "The value of the float variable is 10.123000, while the value of the integer variable is 5000, and the string is Hello There()\n"
     ]
    }
   ],
   "source": [
    "Demo.main(Array())"
   ]
  },
  {
   "cell_type": "code",
   "execution_count": 20,
   "metadata": {},
   "outputs": [
    {
     "name": "stdout",
     "output_type": "stream",
     "text": [
      "Hello John\n"
     ]
    },
    {
     "data": {
      "text/plain": [
       "name = John\n"
      ]
     },
     "metadata": {},
     "output_type": "display_data"
    },
    {
     "data": {
      "text/plain": [
       "John"
      ]
     },
     "execution_count": 20,
     "metadata": {},
     "output_type": "execute_result"
    }
   ],
   "source": [
    "val name = \"John\"\n",
    "println(s\"Hello $name\") //output: Hello John"
   ]
  },
  {
   "cell_type": "code",
   "execution_count": 21,
   "metadata": {},
   "outputs": [
    {
     "name": "stdout",
     "output_type": "stream",
     "text": [
      "2 + 3 = 5\n"
     ]
    }
   ],
   "source": [
    "println(s\"2 + 3 = ${2 + 3}\") //output: 2 + 3 = 5"
   ]
  },
  {
   "cell_type": "code",
   "execution_count": 22,
   "metadata": {},
   "outputs": [
    {
     "name": "stdout",
     "output_type": "stream",
     "text": [
      "John is 1.70 meters tall\n"
     ]
    },
    {
     "data": {
      "text/plain": [
       "height = 1.7\n",
       "name = John\n"
      ]
     },
     "metadata": {},
     "output_type": "display_data"
    },
    {
     "data": {
      "text/plain": [
       "John"
      ]
     },
     "execution_count": 22,
     "metadata": {},
     "output_type": "execute_result"
    }
   ],
   "source": [
    "val height = 1.7d\n",
    "val name = \"John\"\n",
    "println(f\"$name%s is $height%2.2f meters tall\") //John is 1.70 meters tall"
   ]
  },
  {
   "cell_type": "code",
   "execution_count": 23,
   "metadata": {},
   "outputs": [
    {
     "name": "stdout",
     "output_type": "stream",
     "text": [
      "Result = \n",
      " a \n",
      " b\n"
     ]
    }
   ],
   "source": [
    "println(s\"Result = \\n a \\n b\")"
   ]
  },
  {
   "cell_type": "code",
   "execution_count": 24,
   "metadata": {},
   "outputs": [
    {
     "name": "stdout",
     "output_type": "stream",
     "text": [
      "Result = \\n a \\n b\n"
     ]
    }
   ],
   "source": [
    "println(raw\"Result = \\n a \\n b\")"
   ]
  },
  {
   "cell_type": "code",
   "execution_count": 25,
   "metadata": {},
   "outputs": [
    {
     "name": "stdout",
     "output_type": "stream",
     "text": [
      "Length is 3\n"
     ]
    },
    {
     "data": {
      "text/plain": [
       "str1 = one\n"
      ]
     },
     "metadata": {},
     "output_type": "display_data"
    },
    {
     "data": {
      "text/plain": [
       "one"
      ]
     },
     "execution_count": 25,
     "metadata": {},
     "output_type": "execute_result"
    }
   ],
   "source": [
    "var str1:String = \"one\"\n",
    "println(\"Length is \" + str1.length());"
   ]
  },
  {
   "cell_type": "code",
   "execution_count": 26,
   "metadata": {},
   "outputs": [
    {
     "name": "stdout",
     "output_type": "stream",
     "text": [
      "Combined string is one two\n"
     ]
    },
    {
     "data": {
      "text/plain": [
       "str1 = one\n",
       "str2 = one two\n"
      ]
     },
     "metadata": {},
     "output_type": "display_data"
    },
    {
     "data": {
      "text/plain": [
       "one two"
      ]
     },
     "execution_count": 26,
     "metadata": {},
     "output_type": "execute_result"
    }
   ],
   "source": [
    "var str1:String = \"one\"\n",
    "var str2:String = str1.concat(\" two\")\n",
    "println(\"Combined string is \" + str2);"
   ]
  },
  {
   "cell_type": "code",
   "execution_count": 27,
   "metadata": {},
   "outputs": [
    {
     "name": "stdout",
     "output_type": "stream",
     "text": [
      "Char at 5th index is Y\n"
     ]
    },
    {
     "data": {
      "text/plain": [
       "str = New York\n"
      ]
     },
     "metadata": {},
     "output_type": "display_data"
    },
    {
     "data": {
      "text/plain": [
       "New York"
      ]
     },
     "execution_count": 27,
     "metadata": {},
     "output_type": "execute_result"
    }
   ],
   "source": [
    "var str:String = \"New York\"\n",
    "println(\"Char at 5th index is \" + str.charAt(4));"
   ]
  },
  {
   "cell_type": "code",
   "execution_count": 28,
   "metadata": {},
   "outputs": [
    {
     "name": "stdout",
     "output_type": "stream",
     "text": [
      "New string is New Shire\n"
     ]
    },
    {
     "data": {
      "text/plain": [
       "str = New York\n"
      ]
     },
     "metadata": {},
     "output_type": "display_data"
    },
    {
     "data": {
      "text/plain": [
       "New York"
      ]
     },
     "execution_count": 28,
     "metadata": {},
     "output_type": "execute_result"
    }
   ],
   "source": [
    "var str:String = \"New York\"\n",
    "println(\"New string is \" + str.replace(\"York\",\"Shire\"));"
   ]
  },
  {
   "cell_type": "code",
   "execution_count": 29,
   "metadata": {},
   "outputs": [
    {
     "name": "stdout",
     "output_type": "stream",
     "text": [
      "New string is New York xabxcx\n"
     ]
    },
    {
     "data": {
      "text/plain": [
       "str = New York 1ab2c3\n"
      ]
     },
     "metadata": {},
     "output_type": "display_data"
    },
    {
     "data": {
      "text/plain": [
       "New York 1ab2c3"
      ]
     },
     "execution_count": 29,
     "metadata": {},
     "output_type": "execute_result"
    }
   ],
   "source": [
    "var str:String = \"New York 1ab2c3\"\n",
    "println(\"New string is \" + str.replaceAll(\"[0-9]\",\"x\"));"
   ]
  },
  {
   "cell_type": "code",
   "execution_count": 30,
   "metadata": {},
   "outputs": [
    {
     "name": "stdout",
     "output_type": "stream",
     "text": [
      "New string is Nez Yorz\n"
     ]
    },
    {
     "data": {
      "text/plain": [
       "str = New York\n"
      ]
     },
     "metadata": {},
     "output_type": "display_data"
    },
    {
     "data": {
      "text/plain": [
       "New York"
      ]
     },
     "execution_count": 30,
     "metadata": {},
     "output_type": "execute_result"
    }
   ],
   "source": [
    "var str:String = \"New York\"\n",
    "// replace all w and k with z\n",
    "println(\"New string is \" + str.replaceAll(\"w|k\",\"z\"));"
   ]
  },
  {
   "cell_type": "code",
   "execution_count": 31,
   "metadata": {},
   "outputs": [
    {
     "name": "stdout",
     "output_type": "stream",
     "text": [
      "New string is New\n",
      "New\n",
      "York\n",
      "Hello\n",
      " There\n"
     ]
    },
    {
     "data": {
      "text/plain": [
       "str = New,York,Hello, There\n",
       "strarray = Array(New, York, Hello, \" There\")\n",
       "strarray = [Ljava.lang.String;@40932c79\n"
      ]
     },
     "metadata": {},
     "output_type": "display_data"
    },
    {
     "data": {
      "text/plain": [
       "[New, York, Hello,  There]"
      ]
     },
     "execution_count": 31,
     "metadata": {},
     "output_type": "execute_result"
    }
   ],
   "source": [
    "var str:String = \"New,York,Hello, There\"\n",
    "var strarray = new Array[String](3)\n",
    "strarray = str.split(\",\")\n",
    "println(\"New string is \" + strarray(0));\n",
    "println(strarray.deep.mkString(\"\\n\"))"
   ]
  },
  {
   "cell_type": "code",
   "execution_count": 32,
   "metadata": {},
   "outputs": [
    {
     "name": "stdout",
     "output_type": "stream",
     "text": [
      "New string is Yorky\n"
     ]
    },
    {
     "data": {
      "text/plain": [
       "str = NewxYorkyHello, There\n",
       "str1 = Yorky\n"
      ]
     },
     "metadata": {},
     "output_type": "display_data"
    },
    {
     "data": {
      "text/plain": [
       "Yorky"
      ]
     },
     "execution_count": 32,
     "metadata": {},
     "output_type": "execute_result"
    }
   ],
   "source": [
    "var str:String = \"NewxYorkyHello, There\"\n",
    "var str1 = str.substring(4,9)\n",
    "println(\"New string is \" + str1)"
   ]
  },
  {
   "cell_type": "code",
   "execution_count": 1,
   "metadata": {},
   "outputs": [
    {
     "data": {
      "text/plain": [
       "defined object Purge\n"
      ]
     },
     "metadata": {},
     "output_type": "display_data"
    }
   ],
   "source": [
    "object Purge {\n",
    "    def purgeVowels( str:String ) : String = {\n",
    "        var str1: String=str.replaceAll(\"a|e|i|o|u|A|E|I|O|U\",\"\")\n",
    "\n",
    "    return str1\n",
    "        \n",
    "    }\n",
    "}"
   ]
  },
  {
   "cell_type": "code",
   "execution_count": 2,
   "metadata": {},
   "outputs": [
    {
     "data": {
      "text/plain": [
       "Nw Yrk"
      ]
     },
     "execution_count": 2,
     "metadata": {},
     "output_type": "execute_result"
    }
   ],
   "source": [
    "\n",
    "Purge.purgeVowels(\"New York\")\n"
   ]
  },
  {
   "cell_type": "code",
   "execution_count": 1,
   "metadata": {},
   "outputs": [
    {
     "data": {
      "text/plain": [
       "simpleInterest: (principal: Int, rate: Double, duration: Int)Double\n"
      ]
     },
     "metadata": {},
     "output_type": "display_data"
    }
   ],
   "source": [
    "def simpleInterest(principal :Int, rate :Double, duration : Int) : Double = {\n",
    "    if(principal < 0){\n",
    "        println(\"wrong principal\");\n",
    "        return 0;\n",
    "    }\n",
    "    var interest = principal * rate * duration /100;\n",
    "    return interest\n",
    "}"
   ]
  },
  {
   "cell_type": "code",
   "execution_count": 2,
   "metadata": {},
   "outputs": [
    {
     "name": "stdout",
     "output_type": "stream",
     "text": [
      "wrong principal\n"
     ]
    },
    {
     "data": {
      "text/plain": [
       "0.0"
      ]
     },
     "execution_count": 2,
     "metadata": {},
     "output_type": "execute_result"
    }
   ],
   "source": [
    "simpleInterest(-100,7,4)"
   ]
  },
  {
   "cell_type": "code",
   "execution_count": 3,
   "metadata": {},
   "outputs": [
    {
     "data": {
      "text/plain": [
       "28.0"
      ]
     },
     "execution_count": 3,
     "metadata": {},
     "output_type": "execute_result"
    }
   ],
   "source": [
    "simpleInterest(100,7,4)"
   ]
  },
  {
   "cell_type": "code",
   "execution_count": 4,
   "metadata": {},
   "outputs": [
    {
     "data": {
      "text/plain": [
       "a = List(4, 9, 8)\n"
      ]
     },
     "metadata": {},
     "output_type": "display_data"
    },
    {
     "data": {
      "text/plain": [
       "List(4, 9, 8)"
      ]
     },
     "execution_count": 4,
     "metadata": {},
     "output_type": "execute_result"
    }
   ],
   "source": [
    "var a = List(4,9,8)"
   ]
  },
  {
   "cell_type": "code",
   "execution_count": 5,
   "metadata": {},
   "outputs": [
    {
     "name": "stdout",
     "output_type": "stream",
     "text": [
      "4\n",
      "9\n",
      "8\n"
     ]
    }
   ],
   "source": [
    "for (x <- a){\n",
    "    println(x)\n",
    "}"
   ]
  },
  {
   "cell_type": "code",
   "execution_count": 6,
   "metadata": {},
   "outputs": [
    {
     "data": {
      "text/plain": [
       "x = 15\n"
      ]
     },
     "metadata": {},
     "output_type": "display_data"
    },
    {
     "data": {
      "text/plain": [
       "15"
      ]
     },
     "execution_count": 6,
     "metadata": {},
     "output_type": "execute_result"
    }
   ],
   "source": [
    "var x = 15"
   ]
  },
  {
   "cell_type": "code",
   "execution_count": 7,
   "metadata": {},
   "outputs": [
    {
     "name": "stdout",
     "output_type": "stream",
     "text": [
      "15\n",
      "14\n",
      "13\n",
      "12\n",
      "11\n",
      "10\n",
      "9\n",
      "8\n",
      "7\n",
      "6\n",
      "5\n",
      "4\n",
      "3\n",
      "2\n",
      "1\n"
     ]
    }
   ],
   "source": [
    "while(x >0){\n",
    "    println(x)\n",
    "    x = x - 1\n",
    "}"
   ]
  },
  {
   "cell_type": "code",
   "execution_count": 8,
   "metadata": {},
   "outputs": [
    {
     "data": {
      "text/plain": [
       "defined object Hello\n"
      ]
     },
     "metadata": {},
     "output_type": "display_data"
    }
   ],
   "source": [
    "object Hello {\n",
    "   def main(args: Array[String]) {\n",
    "      var x = 5;\n",
    "\n",
    "      if( x < 10 ){\n",
    "         println(\"If condition is true\");\n",
    "      }\n",
    "   }\n",
    "}"
   ]
  },
  {
   "cell_type": "code",
   "execution_count": 9,
   "metadata": {},
   "outputs": [
    {
     "name": "stdout",
     "output_type": "stream",
     "text": [
      "If condition is true\n"
     ]
    }
   ],
   "source": [
    "Hello.main(Array())"
   ]
  },
  {
   "cell_type": "code",
   "execution_count": 10,
   "metadata": {},
   "outputs": [
    {
     "data": {
      "text/plain": [
       "defined object Hello\n"
      ]
     },
     "metadata": {},
     "output_type": "display_data"
    }
   ],
   "source": [
    "object Hello {\n",
    "   def main(args: Array[String]) {\n",
    "      var x = 5;\n",
    "\n",
    "      if( x < 10 ){\n",
    "         println(\"If condition is true\");\n",
    "      } else {\n",
    "         println(\"If condition is false\");\n",
    "      }\n",
    "   }\n",
    "}"
   ]
  },
  {
   "cell_type": "code",
   "execution_count": 11,
   "metadata": {},
   "outputs": [
    {
     "name": "stdout",
     "output_type": "stream",
     "text": [
      "If condition is true\n"
     ]
    }
   ],
   "source": [
    "Hello.main(Array())"
   ]
  },
  {
   "cell_type": "code",
   "execution_count": 12,
   "metadata": {},
   "outputs": [
    {
     "data": {
      "text/plain": [
       "defined object Hello\n"
      ]
     },
     "metadata": {},
     "output_type": "display_data"
    }
   ],
   "source": [
    "object Hello {\n",
    "   def main(args: Array[String]) {\n",
    "      // Local variable declaration:\n",
    "      var a = 5;\n",
    "\n",
    "      // while loop execution\n",
    "      while( a < 10 ){\n",
    "         a = a + 1;\n",
    "         println( \"Value of a: \" + a );\n",
    "      }\n",
    "   }\n",
    "}"
   ]
  },
  {
   "cell_type": "code",
   "execution_count": 13,
   "metadata": {},
   "outputs": [
    {
     "name": "stdout",
     "output_type": "stream",
     "text": [
      "Value of a: 6\n",
      "Value of a: 7\n",
      "Value of a: 8\n",
      "Value of a: 9\n",
      "Value of a: 10\n"
     ]
    }
   ],
   "source": [
    "Hello.main(Array())"
   ]
  },
  {
   "cell_type": "code",
   "execution_count": 15,
   "metadata": {},
   "outputs": [
    {
     "data": {
      "text/plain": [
       "defined object Hello\n"
      ]
     },
     "metadata": {},
     "output_type": "display_data"
    }
   ],
   "source": [
    "object Hello {\n",
    "   def main(args: Array[String]) {\n",
    "      // Local variable declaration:\n",
    "      var a = 5;\n",
    "\n",
    "      // do loop execution\n",
    "      do {\n",
    "         a = a + 1;\n",
    "         println( \"Value of a: \" + a );          }\n",
    "      while( a < 10 )\n",
    "   }\n",
    "}"
   ]
  },
  {
   "cell_type": "code",
   "execution_count": 16,
   "metadata": {},
   "outputs": [
    {
     "name": "stdout",
     "output_type": "stream",
     "text": [
      "Value of a: 6\n",
      "Value of a: 7\n",
      "Value of a: 8\n",
      "Value of a: 9\n",
      "Value of a: 10\n"
     ]
    }
   ],
   "source": [
    "Hello.main(Array())"
   ]
  },
  {
   "cell_type": "code",
   "execution_count": 18,
   "metadata": {},
   "outputs": [
    {
     "data": {
      "text/plain": [
       "defined object Hello\n"
      ]
     },
     "metadata": {},
     "output_type": "display_data"
    }
   ],
   "source": [
    "object Hello {\n",
    "   def main(args: Array[String]) {\n",
    "      var a = 0;\n",
    "\n",
    "      // for loop execution with a range\n",
    "      println(\"Loop 1 - simple loop\")\n",
    "      for( a <- 1 to 5){\n",
    "         println( \"Value of a: \" + a );\n",
    "      }\n",
    "\n",
    "      println(\"Loop 2 - loop with custom incremental value\")\n",
    "      for( a <- 1 to 10 by 2){\n",
    "         println( \"Value of a: \" + a );\n",
    "      }\n",
    "\n",
    "      println(\"Loop 3 - loop in reverse, decreasing order\")\n",
    "      for( a <- 5 to 1 by -1){\n",
    "         println( \"Value of a: \" + a );\n",
    "      }\n",
    "\n",
    "      println(\"Loop 4 - loop using until, one iteration less than simple loop\")\n",
    "      for( a <- 5 until 1 by -1){\n",
    "         println( \"Value of a: \" + a );\n",
    "      }\n",
    "\n",
    "      println(\"Loop 5 - loop over collections\")\n",
    "      val myList = List(1,2,3,4,5);\n",
    "      for( a <- myList ){\n",
    "         println( \"Value of a: \" + a );\n",
    "      }\n",
    "\n",
    "      println(\"Loop 6 - loop over multiples ranges, loop within loop\")\n",
    "      for( a <- 1 to 5; b <- 1 to 3){\n",
    "         println( \"Value of a: \" + a );\n",
    "         println( \"Value of b: \" + b );\n",
    "      }\n",
    "   }\n",
    "}"
   ]
  },
  {
   "cell_type": "code",
   "execution_count": 19,
   "metadata": {},
   "outputs": [
    {
     "name": "stdout",
     "output_type": "stream",
     "text": [
      "Loop 1 - simple loop\n",
      "Value of a: 1\n",
      "Value of a: 2\n",
      "Value of a: 3\n",
      "Value of a: 4\n",
      "Value of a: 5\n",
      "Loop 2 - loop with custom incremental value\n",
      "Value of a: 1\n",
      "Value of a: 3\n",
      "Value of a: 5\n",
      "Value of a: 7\n",
      "Value of a: 9\n",
      "Loop 3 - loop in reverse, decreasing order\n",
      "Value of a: 5\n",
      "Value of a: 4\n",
      "Value of a: 3\n",
      "Value of a: 2\n",
      "Value of a: 1\n",
      "Loop 4 - loop using until, one iteration less than simple loop\n",
      "Value of a: 5\n",
      "Value of a: 4\n",
      "Value of a: 3\n",
      "Value of a: 2\n",
      "Loop 5 - loop over collections\n",
      "Value of a: 1\n",
      "Value of a: 2\n",
      "Value of a: 3\n",
      "Value of a: 4\n",
      "Value of a: 5\n",
      "Loop 6 - loop over multiples ranges, loop within loop\n",
      "Value of a: 1\n",
      "Value of b: 1\n",
      "Value of a: 1\n",
      "Value of b: 2\n",
      "Value of a: 1\n",
      "Value of b: 3\n",
      "Value of a: 2\n",
      "Value of b: 1\n",
      "Value of a: 2\n",
      "Value of b: 2\n",
      "Value of a: 2\n",
      "Value of b: 3\n",
      "Value of a: 3\n",
      "Value of b: 1\n",
      "Value of a: 3\n",
      "Value of b: 2\n",
      "Value of a: 3\n",
      "Value of b: 3\n",
      "Value of a: 4\n",
      "Value of b: 1\n",
      "Value of a: 4\n",
      "Value of b: 2\n",
      "Value of a: 4\n",
      "Value of b: 3\n",
      "Value of a: 5\n",
      "Value of b: 1\n",
      "Value of a: 5\n",
      "Value of b: 2\n",
      "Value of a: 5\n",
      "Value of b: 3\n"
     ]
    }
   ],
   "source": [
    "Hello.main(Array())"
   ]
  },
  {
   "cell_type": "code",
   "execution_count": 41,
   "metadata": {},
   "outputs": [
    {
     "data": {
      "text/plain": [
       "defined object Greet\n"
      ]
     },
     "metadata": {},
     "output_type": "display_data"
    }
   ],
   "source": [
    "object Greet {\n",
    "    def greet(time : Int ) : String = {\n",
    "        if(time >= 4 & time < 12){\n",
    "        return \"Good Morning\"\n",
    "        }\n",
    "        else if(time >= 12 & time < 16){\n",
    "        return \"Good Afternoon\"\n",
    "        }\n",
    "        else if(time >= 16 & time < 21){\n",
    "        return \"Good Evening\"\n",
    "        }\n",
    "        else{\n",
    "        return \"Good Night\"\n",
    "        }\n",
    "    }\n",
    "}\n"
   ]
  },
  {
   "cell_type": "code",
   "execution_count": 42,
   "metadata": {},
   "outputs": [
    {
     "data": {
      "text/plain": [
       "Good Morning"
      ]
     },
     "execution_count": 42,
     "metadata": {},
     "output_type": "execute_result"
    }
   ],
   "source": [
    "Greet.greet(4)"
   ]
  },
  {
   "cell_type": "code",
   "execution_count": 43,
   "metadata": {},
   "outputs": [
    {
     "data": {
      "text/plain": [
       "Good Afternoon"
      ]
     },
     "execution_count": 43,
     "metadata": {},
     "output_type": "execute_result"
    }
   ],
   "source": [
    "Greet.greet(12)"
   ]
  },
  {
   "cell_type": "code",
   "execution_count": 5,
   "metadata": {},
   "outputs": [
    {
     "data": {
      "text/plain": [
       "defined class Person\n"
      ]
     },
     "metadata": {},
     "output_type": "display_data"
    }
   ],
   "source": [
    "class Person(val fname : String, val lname : String, val anage : Int) {\n",
    "    val firstname : String = fname ;\n",
    "    val lastname: String = lname;\n",
    "    val age : Int = anage;\n",
    "    def getfullname():String = {\n",
    "        return firstname + \" \" + lastname;\n",
    "    }\n",
    "}"
   ]
  },
  {
   "cell_type": "code",
   "execution_count": 6,
   "metadata": {},
   "outputs": [
    {
     "data": {
      "text/plain": [
       "obj = Person@11c2cf31\n"
      ]
     },
     "metadata": {},
     "output_type": "display_data"
    },
    {
     "data": {
      "text/plain": [
       "$line25.$read$$iw$$iw$Person@11c2cf31"
      ]
     },
     "execution_count": 6,
     "metadata": {},
     "output_type": "execute_result"
    }
   ],
   "source": [
    "val obj = new Person(\"Robin\",\"Gill\",42)"
   ]
  },
  {
   "cell_type": "code",
   "execution_count": 7,
   "metadata": {},
   "outputs": [
    {
     "data": {
      "text/plain": [
       "42"
      ]
     },
     "execution_count": 7,
     "metadata": {},
     "output_type": "execute_result"
    }
   ],
   "source": [
    "obj.age"
   ]
  },
  {
   "cell_type": "code",
   "execution_count": 13,
   "metadata": {},
   "outputs": [
    {
     "data": {
      "text/plain": [
       "Robin"
      ]
     },
     "execution_count": 13,
     "metadata": {},
     "output_type": "execute_result"
    }
   ],
   "source": [
    "obj.firstname"
   ]
  },
  {
   "cell_type": "code",
   "execution_count": 14,
   "metadata": {},
   "outputs": [
    {
     "data": {
      "text/plain": [
       "Robin Gill"
      ]
     },
     "execution_count": 14,
     "metadata": {},
     "output_type": "execute_result"
    }
   ],
   "source": [
    "obj.getfullname()"
   ]
  },
  {
   "cell_type": "code",
   "execution_count": 15,
   "metadata": {},
   "outputs": [
    {
     "data": {
      "text/plain": [
       "defined class Car\n",
       "defined object Demo\n"
      ]
     },
     "metadata": {},
     "output_type": "display_data"
    }
   ],
   "source": [
    "class Car(makeOfCar: String, modelOfCar: String, yearOfCar: Int) {\n",
    "   var make: String = makeOfCar;\n",
    "   var model: String = modelOfCar;\n",
    "   var year: Int = yearOfCar;\n",
    "   var color = \"\";\n",
    "   def changeColor(colorOfCar: String) {\n",
    "      color = colorOfCar;\n",
    "      println (\"New color of car:\" + color);\n",
    "   }\n",
    "}\n",
    "\n",
    "object Demo {\n",
    "   def main(args: Array[String]) {\n",
    "      var car1 = new Car(\"Honda\", \"City\", 1996);\n",
    "      var car2 = new Car(\"Honda\", \"Accord\", 1999);\n",
    "      var car3 = new Car(\"Honda\", \"Amaze\", 2015);\n",
    "      println(\"Car details:\" + car1.make + \" \" + car1.model + \" \" + car1.year + \" \" + car1.color)\n",
    "      println(\"Car details:\" + car2.make + \" \" + car2.model + \" \" + car2.year + \" \" + car2.color)\n",
    "      println(\"Car details:\" + car3.make + \" \" + car3.model + \" \" + car3.year + \" \" + car3.color)\n",
    "   }\n",
    "}"
   ]
  },
  {
   "cell_type": "code",
   "execution_count": 16,
   "metadata": {},
   "outputs": [
    {
     "name": "stdout",
     "output_type": "stream",
     "text": [
      "Car details:Honda City 1996 \n",
      "Car details:Honda Accord 1999 \n",
      "Car details:Honda Amaze 2015 \n"
     ]
    }
   ],
   "source": [
    "Demo.main(Array())"
   ]
  },
  {
   "cell_type": "code",
   "execution_count": 38,
   "metadata": {},
   "outputs": [
    {
     "data": {
      "text/plain": [
       "defined class Car\n",
       "defined object Demo\n"
      ]
     },
     "metadata": {},
     "output_type": "display_data"
    }
   ],
   "source": [
    "import java.io._\n",
    "\n",
    "class Car() {\n",
    "    var make: String = \"\";\n",
    "    var model: String = \"\";\n",
    "    var year: Int = 0;\n",
    "    var color = \"\";\n",
    "\n",
    "    def this(makeOfCar: String, modelOfCar: String, yearOfCar: Int) {\n",
    "        this()\n",
    "        println(\"Creating new car object per first constructor\")\n",
    "        this.make = makeOfCar;\n",
    "        this.model = modelOfCar;\n",
    "        this.year = yearOfCar;\n",
    "        this.color = \"Black\";\n",
    "    }\n",
    "\n",
    "    def this(makeOfCar: String, modelOfCar: String) {\n",
    "        this()\n",
    "        println(\"Creating new car object per second constructor\")\n",
    "        this.make = makeOfCar;\n",
    "        this.model = modelOfCar;\n",
    "        this.year = 1990;\n",
    "        this.color = \"Blue\";\n",
    "    }\n",
    "\n",
    "    def dispCar() {\n",
    "        println(\"Car details:\" + this.make + \" \" + this.model + \" \" + this.year + \" \" + this.color)\n",
    "    }\n",
    "}\n",
    "\n",
    "\n",
    "object Demo {\n",
    "    def main(args: Array[String]) {\n",
    "        var car1 = new Car(\"Honda\", \"City\", 1996);\n",
    "        var car2 = new Car(\"Honda\", \"Accord\");\n",
    "        var car3 = new Car(\"Honda\", \"Amaze\", 2015);\n",
    "        println(\"\")\n",
    "        println(\"Displaying car info in main program:\")\n",
    "        println(\"Car details:\" + car1.make + \" \" + car1.model + \" \" + car1.year + \" \" + car1.color)\n",
    "        println(\"Car details:\" + car2.make + \" \" + car2.model + \" \" + car2.year + \" \" + car2.color)\n",
    "        println(\"Car details:\" + car3.make + \" \" + car3.model + \" \" + car3.year + \" \" + car3.color)\n",
    "        println(\"\")\n",
    "        println(\"Displaying car info via function:\")\n",
    "        dispCarDetails(car1)\n",
    "        dispCarDetails(car2)\n",
    "        dispCarDetails(car3)\n",
    "        println(\"\")\n",
    "        println(\"Display car info via class func:\")\n",
    "        car1.dispCar()\n",
    "        car2.dispCar()\n",
    "        car3.dispCar()\n",
    "    }\n",
    "\n",
    "    def dispCarDetails(car:Car) = {\n",
    "        println(\"Car details via func:\" + car.make + \" \" + car.model + \" \" + car.year + \" \" + car.color)\n",
    "    }\n",
    "\n",
    "}"
   ]
  },
  {
   "cell_type": "code",
   "execution_count": 23,
   "metadata": {},
   "outputs": [
    {
     "name": "stdout",
     "output_type": "stream",
     "text": [
      "Creating new car object per first constructor\n",
      "Creating new car object per second constructor\n",
      "Creating new car object per first constructor\n",
      "\n",
      "Displaying car info in main program:\n",
      "Car details:Honda City 1996 Black\n",
      "Car details:Honda Accord 1990 Blue\n",
      "Car details:Honda Amaze 2015 Black\n",
      "\n",
      "Displaying car info via function:\n",
      "Car details via func:Honda City 1996 Black\n",
      "Car details via func:Honda Accord 1990 Blue\n",
      "Car details via func:Honda Amaze 2015 Black\n",
      "\n",
      "Display car info via class func:\n",
      "Car details:Honda City 1996 Black\n",
      "Car details:Honda Accord 1990 Blue\n",
      "Car details:Honda Amaze 2015 Black\n"
     ]
    }
   ],
   "source": [
    "Demo.main(Array())"
   ]
  },
  {
   "cell_type": "code",
   "execution_count": 33,
   "metadata": {},
   "outputs": [
    {
     "data": {
      "text/plain": [
       "defined class Student\n",
       "defined object Demo\n"
      ]
     },
     "metadata": {},
     "output_type": "display_data"
    }
   ],
   "source": [
    "class Student(name_stu : String, sex_stu : Char, grade_stu : Int, age_stu : Int) {\n",
    "    var name : String = name_stu;\n",
    "    var sex : Char = sex_stu;\n",
    "    var grade : Int = grade_stu;\n",
    "    var age : Int = age_stu;\n",
    "}\n",
    "object Demo {\n",
    "    def main(args: Array[String]){\n",
    "        var stu1 = new Student(\"John Doe\", 'M', 15, 23 );\n",
    "        var name_stu = stu1.name;\n",
    "        println(name_stu)\n",
    "        var sex_stu = stu1.sex;\n",
    "        println(sex_stu)\n",
    "        var grade_stu = stu1.grade;\n",
    "        println(grade_stu)\n",
    "        var age_stu = stu1.age;\n",
    "        println(age_stu)\n",
    "    }\n",
    "}"
   ]
  },
  {
   "cell_type": "code",
   "execution_count": 34,
   "metadata": {},
   "outputs": [
    {
     "name": "stdout",
     "output_type": "stream",
     "text": [
      "John Doe\n",
      "M\n",
      "15\n",
      "23\n"
     ]
    }
   ],
   "source": [
    "Demo.main(Array())"
   ]
  },
  {
   "cell_type": "code",
   "execution_count": 39,
   "metadata": {},
   "outputs": [
    {
     "name": "stdout",
     "output_type": "stream",
     "text": [
      "Creating new object per fourth constructor\n"
     ]
    },
    {
     "data": {
      "text/plain": [
       "defined class Student\n",
       "stu = Student@2322a543\n",
       "name_stu = Doe\n",
       "sex_stu = F\n",
       "grade_stu = 8\n",
       "age_stu = 16\n"
      ]
     },
     "metadata": {},
     "output_type": "display_data"
    },
    {
     "data": {
      "text/plain": [
       "16"
      ]
     },
     "execution_count": 39,
     "metadata": {},
     "output_type": "execute_result"
    }
   ],
   "source": [
    "class Student() {\n",
    "var name: String = \"\";\n",
    "var sex: Char = 'F';\n",
    "var grade: Int = 5;\n",
    "var age: Int =12;\n",
    "\n",
    "def this(name_a: String) {\n",
    "this()\n",
    "println(\"Creating new object per first constructor\")\n",
    "this.name = name_a\n",
    "}\n",
    "\n",
    "def this(name_a: String, sex_a: Char) {\n",
    "this()\n",
    "println(\"Creating new object per second constructor\")\n",
    "this.name = name_a;\n",
    "this.sex = sex_a;\n",
    "}\n",
    "\n",
    "def this(name_a: String, sex_a: Char, grade_a: Int) {\n",
    "this()\n",
    "println(\"Creating new object per third constructor\")\n",
    "this.name = name_a;\n",
    "this.sex = sex_a;\n",
    "this.grade = grade_a;\n",
    "}\n",
    "\n",
    "def this(name_a: String, sex_a: Char, grade_a: Int, age_a: Int){\n",
    "this()\n",
    "println(\"Creating new object per fourth constructor\")\n",
    "this.name = name_a;\n",
    "this.sex = sex_a;\n",
    "this.grade = grade_a;\n",
    "this.age = age_a;\n",
    "}\n",
    "}\n",
    "\n",
    "var stu = new Student(\"Doe\", 'F', 8, 16);\n",
    "\n",
    "var name_stu = stu.name\n",
    "var sex_stu = stu.sex\n",
    "var grade_stu = stu.grade\n",
    "var age_stu = stu.age"
   ]
  },
  {
   "cell_type": "code",
   "execution_count": 40,
   "metadata": {},
   "outputs": [
    {
     "data": {
      "text/plain": [
       "defined object Hello\n"
      ]
     },
     "metadata": {},
     "output_type": "display_data"
    }
   ],
   "source": [
    "object Hello {\n",
    "   def addNumbers( x:Int, y:Int ) : Int = {\n",
    "      var sum:Int = 0\n",
    "      sum = x + y\n",
    "      return sum\n",
    "   }\n",
    "}"
   ]
  },
  {
   "cell_type": "code",
   "execution_count": 41,
   "metadata": {},
   "outputs": [
    {
     "data": {
      "text/plain": [
       "5"
      ]
     },
     "execution_count": 41,
     "metadata": {},
     "output_type": "execute_result"
    }
   ],
   "source": [
    "Hello.addNumbers(2,3)"
   ]
  },
  {
   "cell_type": "code",
   "execution_count": 42,
   "metadata": {},
   "outputs": [
    {
     "data": {
      "text/plain": [
       "defined object HelloWorld\n"
      ]
     },
     "metadata": {},
     "output_type": "display_data"
    }
   ],
   "source": [
    "//this is import of non-default packages to access specific utilities\n",
    "import java.text.SimpleDateFormat\n",
    "import java.util.Calendar\n",
    "//this is main class of the scala program\n",
    "object HelloWorld {\n",
    "  //this is the main method of the program\n",
    "  //this is the method which called when the program is run\n",
    "\n",
    "  def main(args: Array[String]) {\n",
    "    println(\"Hello, world!\") // prints Hello World\n",
    "\n",
    "    //display current date time using a function\n",
    "    dispDateTime();\n",
    "\n",
    "    var result: Int = 0;\n",
    "    //get sum of 2 numbers using a function\n",
    "    result = calcSum(5, 7);\n",
    "    println(\"Result is:\" + result)\n",
    "  }\n",
    "\n",
    "  def dispDateTime(): Unit= {\n",
    "    val now = Calendar.getInstance().getTime()\n",
    "    //println is a function which take st\n",
    "    println(\"Current time is \" + \"as below\")\n",
    "    println(now+\"\\n\")\n",
    "  }\n",
    "\n",
    "  def calcSum(a: Int, b: Int): Int = {\n",
    "    var sum: Int = 0\n",
    "    sum = a + b\n",
    "    return sum\n",
    "  }\n",
    "\n",
    "}"
   ]
  },
  {
   "cell_type": "code",
   "execution_count": 43,
   "metadata": {},
   "outputs": [
    {
     "name": "stdout",
     "output_type": "stream",
     "text": [
      "Hello, world!\n",
      "Current time is as below\n",
      "Sat May 02 17:34:19 UTC 2020\n",
      "\n",
      "Result is:12\n"
     ]
    }
   ],
   "source": [
    "HelloWorld.main(Array())"
   ]
  },
  {
   "cell_type": "code",
   "execution_count": 53,
   "metadata": {},
   "outputs": [
    {
     "data": {
      "text/plain": [
       "defined object Calc\n"
      ]
     },
     "metadata": {},
     "output_type": "display_data"
    }
   ],
   "source": [
    "object Calc{\n",
    "    def calcSum(x : Int, y: Int): Int ={\n",
    "        var sum : Int = 0\n",
    "        for(a <- x to y){\n",
    "             sum = a + sum\n",
    "        }\n",
    "        return sum\n",
    "    }\n",
    "}"
   ]
  },
  {
   "cell_type": "code",
   "execution_count": 54,
   "metadata": {},
   "outputs": [
    {
     "data": {
      "text/plain": [
       "26"
      ]
     },
     "execution_count": 54,
     "metadata": {},
     "output_type": "execute_result"
    }
   ],
   "source": [
    " Calc.calcSum(5,8)"
   ]
  },
  {
   "cell_type": "code",
   "execution_count": 55,
   "metadata": {},
   "outputs": [
    {
     "data": {
      "text/plain": [
       "multiplier = > Int = <function1>\n"
      ]
     },
     "metadata": {},
     "output_type": "display_data"
    },
    {
     "data": {
      "text/plain": [
       "<function1>"
      ]
     },
     "execution_count": 55,
     "metadata": {},
     "output_type": "execute_result"
    }
   ],
   "source": [
    "val multiplier = (i:Int) => i * 10"
   ]
  },
  {
   "cell_type": "code",
   "execution_count": 56,
   "metadata": {},
   "outputs": [
    {
     "data": {
      "text/plain": [
       "factor = 3\n",
       "multiplier = > Int = <function1>\n"
      ]
     },
     "metadata": {},
     "output_type": "display_data"
    },
    {
     "data": {
      "text/plain": [
       "<function1>"
      ]
     },
     "execution_count": 56,
     "metadata": {},
     "output_type": "execute_result"
    }
   ],
   "source": [
    "var factor = 3\n",
    "val multiplier = (i:Int) => i * factor"
   ]
  },
  {
   "cell_type": "code",
   "execution_count": 57,
   "metadata": {},
   "outputs": [
    {
     "data": {
      "text/plain": [
       "defined object Hello\n"
      ]
     },
     "metadata": {},
     "output_type": "display_data"
    }
   ],
   "source": [
    "object Hello {\n",
    "   def main(args: Array[String]) {\n",
    "      println( \"multiplier(1) value = \" +  processme(1) )\n",
    "      println( \"multiplier(2) value = \" +  processme(2) )\n",
    "   }\n",
    "   var factor = 4\n",
    "   val processme = (i:Int) => i * (factor+1)\n",
    "}"
   ]
  },
  {
   "cell_type": "code",
   "execution_count": 58,
   "metadata": {},
   "outputs": [
    {
     "data": {
      "text/plain": [
       "languages = Array(Ruby, SQl, Python)\n"
      ]
     },
     "metadata": {},
     "output_type": "display_data"
    },
    {
     "data": {
      "text/plain": [
       "[Ruby, SQl, Python]"
      ]
     },
     "execution_count": 58,
     "metadata": {},
     "output_type": "execute_result"
    }
   ],
   "source": [
    "var languages = Array(\"Ruby\",\"SQl\",\"Python\")"
   ]
  },
  {
   "cell_type": "code",
   "execution_count": 59,
   "metadata": {},
   "outputs": [
    {
     "data": {
      "text/plain": [
       "Ruby"
      ]
     },
     "execution_count": 59,
     "metadata": {},
     "output_type": "execute_result"
    }
   ],
   "source": [
    "languages(0)"
   ]
  },
  {
   "cell_type": "code",
   "execution_count": 60,
   "metadata": {},
   "outputs": [],
   "source": [
    "languages(1) = \"C++\""
   ]
  },
  {
   "cell_type": "code",
   "execution_count": 61,
   "metadata": {},
   "outputs": [
    {
     "data": {
      "text/plain": [
       "[Ruby, C++, Python]"
      ]
     },
     "execution_count": 61,
     "metadata": {},
     "output_type": "execute_result"
    }
   ],
   "source": [
    "languages"
   ]
  },
  {
   "cell_type": "code",
   "execution_count": 64,
   "metadata": {},
   "outputs": [
    {
     "name": "stdout",
     "output_type": "stream",
     "text": [
      "Ruby\n",
      "C++\n",
      "Python\n"
     ]
    }
   ],
   "source": [
    "for( x <- languages){\n",
    "    println(x)\n",
    "}"
   ]
  },
  {
   "cell_type": "code",
   "execution_count": 65,
   "metadata": {},
   "outputs": [
    {
     "data": {
      "text/plain": [
       "number_list = List(1, 2, 3)\n"
      ]
     },
     "metadata": {},
     "output_type": "display_data"
    },
    {
     "data": {
      "text/plain": [
       "List(1, 2, 3)"
      ]
     },
     "execution_count": 65,
     "metadata": {},
     "output_type": "execute_result"
    }
   ],
   "source": [
    "var number_list = List(1,2,3)"
   ]
  },
  {
   "cell_type": "code",
   "execution_count": 67,
   "metadata": {},
   "outputs": [
    {
     "data": {
      "text/plain": [
       "List(1, 2, 3, 4)"
      ]
     },
     "execution_count": 67,
     "metadata": {},
     "output_type": "execute_result"
    }
   ],
   "source": [
    "number_list :+ 4"
   ]
  },
  {
   "cell_type": "code",
   "execution_count": 68,
   "metadata": {},
   "outputs": [
    {
     "data": {
      "text/plain": [
       "set = Set(1, 9, 2, 76, 8)\n"
      ]
     },
     "metadata": {},
     "output_type": "display_data"
    },
    {
     "data": {
      "text/plain": [
       "Set(1, 9, 2, 76, 8)"
      ]
     },
     "execution_count": 68,
     "metadata": {},
     "output_type": "execute_result"
    }
   ],
   "source": [
    "var set = Set(76,8,9,1,2)"
   ]
  },
  {
   "cell_type": "code",
   "execution_count": 69,
   "metadata": {},
   "outputs": [
    {
     "data": {
      "text/plain": [
       "set = Set(1, 9, 2, 76, 8)\n"
      ]
     },
     "metadata": {},
     "output_type": "display_data"
    },
    {
     "data": {
      "text/plain": [
       "Set(1, 9, 2, 76, 8)"
      ]
     },
     "execution_count": 69,
     "metadata": {},
     "output_type": "execute_result"
    }
   ],
   "source": [
    "set = set + 9"
   ]
  },
  {
   "cell_type": "code",
   "execution_count": 70,
   "metadata": {},
   "outputs": [
    {
     "data": {
      "text/plain": [
       "set = Set(20, 1, 9, 2, 76, 8)\n"
      ]
     },
     "metadata": {},
     "output_type": "display_data"
    },
    {
     "data": {
      "text/plain": [
       "Set(20, 1, 9, 2, 76, 8)"
      ]
     },
     "execution_count": 70,
     "metadata": {},
     "output_type": "execute_result"
    }
   ],
   "source": [
    "set = set + 20"
   ]
  },
  {
   "cell_type": "code",
   "execution_count": 71,
   "metadata": {},
   "outputs": [
    {
     "data": {
      "text/plain": [
       "t = (14,2,3,india)\n"
      ]
     },
     "metadata": {},
     "output_type": "display_data"
    },
    {
     "data": {
      "text/plain": [
       "(14,2,3,india)"
      ]
     },
     "execution_count": 71,
     "metadata": {},
     "output_type": "execute_result"
    }
   ],
   "source": [
    "var t = (14,2,3,\"india\")"
   ]
  },
  {
   "cell_type": "code",
   "execution_count": 74,
   "metadata": {},
   "outputs": [
    {
     "data": {
      "text/plain": [
       "strArray = Array(John, Doe, Jane, Sach)\n"
      ]
     },
     "metadata": {},
     "output_type": "display_data"
    },
    {
     "data": {
      "text/plain": [
       "[John, Doe, Jane, Sach]"
      ]
     },
     "execution_count": 74,
     "metadata": {},
     "output_type": "execute_result"
    }
   ],
   "source": [
    "var strArray = Array(\"John\",\"Doe\",\"Jane\",\"Sach\")"
   ]
  },
  {
   "cell_type": "code",
   "execution_count": 77,
   "metadata": {},
   "outputs": [
    {
     "data": {
      "text/plain": [
       "numArray = Array(10, 12, 14, 16, 18, 20)\n"
      ]
     },
     "metadata": {},
     "output_type": "display_data"
    },
    {
     "data": {
      "text/plain": [
       "[10, 12, 14, 16, 18, 20]"
      ]
     },
     "execution_count": 77,
     "metadata": {},
     "output_type": "execute_result"
    }
   ],
   "source": [
    "import Array._\n",
    "\n",
    "var numArray = range(10,21,2)"
   ]
  },
  {
   "cell_type": "code",
   "execution_count": 1,
   "metadata": {},
   "outputs": [
    {
     "data": {
      "text/plain": [
       "strList = List(apple, banana, mango, orange, pears)\n"
      ]
     },
     "metadata": {},
     "output_type": "display_data"
    },
    {
     "data": {
      "text/plain": [
       "List(apple, banana, mango, orange, pears)"
      ]
     },
     "execution_count": 1,
     "metadata": {},
     "output_type": "execute_result"
    }
   ],
   "source": [
    "val strList = List(\"apple\", \"banana\", \"mango\", \"orange\", \"pears\")"
   ]
  },
  {
   "cell_type": "code",
   "execution_count": 2,
   "metadata": {},
   "outputs": [
    {
     "data": {
      "text/plain": [
       "intSet = Set(2, 4, 17, 19)\n"
      ]
     },
     "metadata": {},
     "output_type": "display_data"
    },
    {
     "data": {
      "text/plain": [
       "Set(2, 4, 17, 19)"
      ]
     },
     "execution_count": 2,
     "metadata": {},
     "output_type": "execute_result"
    }
   ],
   "source": [
    " var intSet:Set[Int] = Set(2,4,17,19)"
   ]
  },
  {
   "cell_type": "code",
   "execution_count": 4,
   "metadata": {},
   "outputs": [
    {
     "data": {
      "text/plain": [
       "charMap = Map(A -> 1, B -> 2, C -> 3)\n"
      ]
     },
     "metadata": {},
     "output_type": "display_data"
    },
    {
     "data": {
      "text/plain": [
       "Map(A -> 1, B -> 2, C -> 3)"
      ]
     },
     "execution_count": 4,
     "metadata": {},
     "output_type": "execute_result"
    }
   ],
   "source": [
    "val charMap = Map('A' -> 1, 'B' -> 2, 'C' -> 3)"
   ]
  },
  {
   "cell_type": "code",
   "execution_count": 5,
   "metadata": {},
   "outputs": [
    {
     "data": {
      "text/plain": [
       "myTuple = (5,Hello,100)\n"
      ]
     },
     "metadata": {},
     "output_type": "display_data"
    },
    {
     "data": {
      "text/plain": [
       "(5,Hello,100)"
      ]
     },
     "execution_count": 5,
     "metadata": {},
     "output_type": "execute_result"
    }
   ],
   "source": [
    "val myTuple = (5,\"Hello\",100)"
   ]
  },
  {
   "cell_type": "code",
   "execution_count": 8,
   "metadata": {},
   "outputs": [
    {
     "data": {
      "text/plain": [
       "myIter = non-empty iterator\n"
      ]
     },
     "metadata": {},
     "output_type": "display_data"
    },
    {
     "data": {
      "text/plain": [
       "non-empty iterator"
      ]
     },
     "execution_count": 8,
     "metadata": {},
     "output_type": "execute_result"
    }
   ],
   "source": [
    "val myIter = Iterator(\"I\", \"am\", \"going\")\n"
   ]
  },
  {
   "cell_type": "code",
   "execution_count": 14,
   "metadata": {},
   "outputs": [
    {
     "data": {
      "text/plain": [
       "writer = java.io.PrintWriter@2068d9ce\n"
      ]
     },
     "metadata": {},
     "output_type": "display_data"
    },
    {
     "data": {
      "text/plain": [
       "java.io.PrintWriter@2068d9ce"
      ]
     },
     "execution_count": 14,
     "metadata": {},
     "output_type": "execute_result"
    }
   ],
   "source": [
    "import java.io._\n",
    "\n",
    "\n",
    "val writer = new PrintWriter(new File(\"New.txt\" ))\n",
    "writer.write(\"Hello Scala\\n\")\n",
    "writer.write(\"Bye Scala\")\n",
    "writer.close()"
   ]
  },
  {
   "cell_type": "code",
   "execution_count": 16,
   "metadata": {},
   "outputs": [
    {
     "data": {
      "text/plain": [
       "list = List(1, 2, 3)\n"
      ]
     },
     "metadata": {},
     "output_type": "display_data"
    },
    {
     "data": {
      "text/plain": [
       "List(1, 2, 3)"
      ]
     },
     "execution_count": 16,
     "metadata": {},
     "output_type": "execute_result"
    }
   ],
   "source": [
    "var list = List(1,2,3)"
   ]
  },
  {
   "cell_type": "code",
   "execution_count": 17,
   "metadata": {},
   "outputs": [
    {
     "data": {
      "text/plain": [
       "List(2, 3, 4)"
      ]
     },
     "execution_count": 17,
     "metadata": {},
     "output_type": "execute_result"
    }
   ],
   "source": [
    "list.map(x => x+1)"
   ]
  },
  {
   "cell_type": "code",
   "execution_count": 18,
   "metadata": {},
   "outputs": [
    {
     "data": {
      "text/plain": [
       "List(2, 3, 4)"
      ]
     },
     "execution_count": 18,
     "metadata": {},
     "output_type": "execute_result"
    }
   ],
   "source": [
    "list.map(_ +1)"
   ]
  },
  {
   "cell_type": "code",
   "execution_count": 19,
   "metadata": {},
   "outputs": [
    {
     "data": {
      "text/plain": [
       "list = List(Python, Go)\n"
      ]
     },
     "metadata": {},
     "output_type": "display_data"
    },
    {
     "data": {
      "text/plain": [
       "List(Python, Go)"
      ]
     },
     "execution_count": 19,
     "metadata": {},
     "output_type": "execute_result"
    }
   ],
   "source": [
    "var list = List(\"Python\",\"Go\")"
   ]
  },
  {
   "cell_type": "code",
   "execution_count": 20,
   "metadata": {},
   "outputs": [
    {
     "data": {
      "text/plain": [
       "List(P, y, t, h, o, n, #, G, o, #)"
      ]
     },
     "execution_count": 20,
     "metadata": {},
     "output_type": "execute_result"
    }
   ],
   "source": [
    "list.flatMap(lang => lang + \"#\")"
   ]
  },
  {
   "cell_type": "code",
   "execution_count": 1,
   "metadata": {},
   "outputs": [
    {
     "data": {
      "text/plain": [
       "List(P, y, t, h, o, n, #, G, o, #)"
      ]
     },
     "execution_count": 1,
     "metadata": {},
     "output_type": "execute_result"
    }
   ],
   "source": [
    "list.flatMap(_ + '#')"
   ]
  },
  {
   "cell_type": "code",
   "execution_count": 2,
   "metadata": {},
   "outputs": [
    {
     "data": {
      "text/plain": [
       "list = List(Scala, R, Python, Go, SQL)\n"
      ]
     },
     "metadata": {},
     "output_type": "display_data"
    },
    {
     "data": {
      "text/plain": [
       "List(Scala, R, Python, Go, SQL)"
      ]
     },
     "execution_count": 2,
     "metadata": {},
     "output_type": "execute_result"
    }
   ],
   "source": [
    "var list = List(\"Scala\",\"R\",\"Python\",\"Go\",\"SQL\")"
   ]
  },
  {
   "cell_type": "code",
   "execution_count": 3,
   "metadata": {},
   "outputs": [
    {
     "data": {
      "text/plain": [
       "List(Scala, SQL)"
      ]
     },
     "execution_count": 3,
     "metadata": {},
     "output_type": "execute_result"
    }
   ],
   "source": [
    "list.filter(lang => lang.contains(\"S\"))"
   ]
  },
  {
   "cell_type": "code",
   "execution_count": 4,
   "metadata": {},
   "outputs": [
    {
     "data": {
      "text/plain": [
       "list = List(1, 2)\n"
      ]
     },
     "metadata": {},
     "output_type": "display_data"
    },
    {
     "data": {
      "text/plain": [
       "List(1, 2)"
      ]
     },
     "execution_count": 4,
     "metadata": {},
     "output_type": "execute_result"
    }
   ],
   "source": [
    "var list = List(1,2)"
   ]
  },
  {
   "cell_type": "code",
   "execution_count": 5,
   "metadata": {},
   "outputs": [
    {
     "name": "stdout",
     "output_type": "stream",
     "text": [
      "1\n",
      "2\n"
     ]
    }
   ],
   "source": [
    "list.foreach(println)"
   ]
  },
  {
   "cell_type": "code",
   "execution_count": 6,
   "metadata": {},
   "outputs": [
    {
     "data": {
      "text/plain": [
       "list = List(3, 7, 13, 16)\n"
      ]
     },
     "metadata": {},
     "output_type": "display_data"
    },
    {
     "data": {
      "text/plain": [
       "List(3, 7, 13, 16)"
      ]
     },
     "execution_count": 6,
     "metadata": {},
     "output_type": "execute_result"
    }
   ],
   "source": [
    "var list = List(3,7,13,16)"
   ]
  },
  {
   "cell_type": "code",
   "execution_count": 7,
   "metadata": {},
   "outputs": [
    {
     "data": {
      "text/plain": [
       "39"
      ]
     },
     "execution_count": 7,
     "metadata": {},
     "output_type": "execute_result"
    }
   ],
   "source": [
    "list.reduce((x,y) => x+y)"
   ]
  },
  {
   "cell_type": "code",
   "execution_count": 8,
   "metadata": {},
   "outputs": [
    {
     "data": {
      "text/plain": [
       "39"
      ]
     },
     "execution_count": 8,
     "metadata": {},
     "output_type": "execute_result"
    }
   ],
   "source": [
    "list.reduce(_+_)"
   ]
  },
  {
   "cell_type": "code",
   "execution_count": null,
   "metadata": {},
   "outputs": [],
   "source": []
  }
 ],
 "metadata": {
  "kernelspec": {
   "display_name": "Apache Toree - Scala",
   "language": "scala",
   "name": "apache_toree_scala"
  },
  "language_info": {
   "codemirror_mode": "text/x-scala",
   "file_extension": ".scala",
   "mimetype": "text/x-scala",
   "name": "scala",
   "pygments_lexer": "scala",
   "version": "2.11.8"
  },
  "toc": {
   "base_numbering": 1,
   "nav_menu": {},
   "number_sections": true,
   "sideBar": true,
   "skip_h1_title": false,
   "title_cell": "Table of Contents",
   "title_sidebar": "Contents",
   "toc_cell": false,
   "toc_position": {},
   "toc_section_display": true,
   "toc_window_display": false
  }
 },
 "nbformat": 4,
 "nbformat_minor": 2
}
